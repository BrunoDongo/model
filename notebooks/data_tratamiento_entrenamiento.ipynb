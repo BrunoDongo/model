{
  "nbformat": 4,
  "nbformat_minor": 0,
  "metadata": {
    "colab": {
      "provenance": [],
      "collapsed_sections": [
        "ZknT4GH3iBZA",
        "GnppMo7hNCCD",
        "oStX_6ryNfA3"
      ]
    },
    "kernelspec": {
      "name": "python3",
      "display_name": "Python 3"
    },
    "language_info": {
      "name": "python"
    }
  },
  "cells": [
    {
      "cell_type": "markdown",
      "source": [
        "# 0. Requerimientos (carga, librerías)"
      ],
      "metadata": {
        "id": "FwB0IqUdDXIO"
      }
    },
    {
      "cell_type": "code",
      "source": [
        "from google.colab import drive\n",
        "drive.mount('/content/drive')"
      ],
      "metadata": {
        "colab": {
          "base_uri": "https://localhost:8080/"
        },
        "id": "eU5MWj1eQEki",
        "outputId": "83a31af2-bbc7-470f-dd12-9dad21699b2e"
      },
      "execution_count": null,
      "outputs": [
        {
          "output_type": "stream",
          "name": "stdout",
          "text": [
            "Mounted at /content/drive\n"
          ]
        }
      ]
    },
    {
      "cell_type": "code",
      "source": [
        "from google.colab import auth\n",
        "auth.authenticate_user()\n",
        "\n",
        "import gspread\n",
        "from google.auth import default\n",
        "creds, _ = default()\n",
        "\n",
        "gc = gspread.authorize(creds)"
      ],
      "metadata": {
        "id": "9QUUMIOhQQO0"
      },
      "execution_count": null,
      "outputs": []
    },
    {
      "cell_type": "code",
      "execution_count": null,
      "metadata": {
        "id": "oZ-1HlEOP-5c"
      },
      "outputs": [],
      "source": [
        "import pandas as pd\n",
        "import numpy as np\n",
        "import pickle"
      ]
    },
    {
      "cell_type": "code",
      "source": [
        "import statsmodels.api as sm\n",
        "from sklearn.model_selection import train_test_split\n",
        "from sklearn.linear_model import LogisticRegression\n",
        "from sklearn.metrics import accuracy_score, classification_report"
      ],
      "metadata": {
        "id": "7Yg_sA4yZVPt"
      },
      "execution_count": null,
      "outputs": []
    },
    {
      "cell_type": "markdown",
      "source": [
        "# 1. Carga data entrada"
      ],
      "metadata": {
        "id": "2QGattRWzF0O"
      }
    },
    {
      "cell_type": "code",
      "source": [
        "data_entrada = pd.read_csv(\"../data/data_raw.csv\", sep=\",\")\n",
        "data_entrada.head(3)"
      ],
      "metadata": {
        "id": "QxI0J3VVzGzn"
      },
      "execution_count": null,
      "outputs": []
    },
    {
      "cell_type": "markdown",
      "source": [
        "# función: Cargar modelo (pickle)"
      ],
      "metadata": {
        "id": "ZknT4GH3iBZA"
      }
    },
    {
      "cell_type": "code",
      "source": [
        "def cargar_modelo():\n",
        "  with open('./models/prueba_model.pickle', 'rb') as file:\n",
        "    modelo_pgh = pickle.load(file)\n",
        "  return(modelo_pgh)"
      ],
      "metadata": {
        "id": "lVhvJR-DbCsm"
      },
      "execution_count": null,
      "outputs": []
    },
    {
      "cell_type": "markdown",
      "source": [
        "# función: procesamiento"
      ],
      "metadata": {
        "id": "GnppMo7hNCCD"
      }
    },
    {
      "cell_type": "code",
      "source": [
        "def procesamiento_categorias(df):\n",
        "  temp_df = df.copy()\n",
        "\n",
        "  #\n",
        "  def grupo_calif(x):\n",
        "    condiciones = [\n",
        "        (x['NOR'] == 100),\n",
        "        (x['PER'] >= 20),\n",
        "        (x['DUD'] >= 20),\n",
        "        (x['DEF'] >= 30),\n",
        "        (x[['NOR', 'CPP', 'DEF', 'DUD', 'PER']].sum(axis=1) == 0)]\n",
        "    valores = ['Normal', 'Perdida', 'Dudoso', 'Deficiente', 'Sin Calificación']\n",
        "    grupos = ['1. Normal', '3. Deficiente/Dudoso/Perdida', '3. Deficiente/Dudoso/Perdida', '3. Deficiente/Dudoso/Perdida', '2. Sin Calificación/CPP']\n",
        "    temp_df['calificacion'] = np.select(condiciones, valores, 'CPP')\n",
        "    temp_df['calificacion_grupo'] = np.select(condiciones, grupos, '2. Sin Calificación/CPP')\n",
        "  grupo_calif(temp_df)\n",
        "\n",
        "  ##\n",
        "  def grupo_datraso_sbs(x):\n",
        "    if (0<=x) and (x<=15):\n",
        "      return '1. 0 a 15'\n",
        "    elif x>15:\n",
        "      return '2. mas de 15'\n",
        "    else: return 'ERROR'\n",
        "  temp_df['max_datraso_sbs_grupo'] = temp_df.apply(lambda x: x[['MAXIMO_DIAS_ATRASO_DDIRECTASBS.1','MAXIMO_DIAS_ATRASO_DDIRECTASBS.2','MAXIMO_DIAS_ATRASO_DDIRECTASBS.3']].max(), axis=1)\n",
        "  temp_df['max_datraso_sbs_grupo'] = temp_df['max_datraso_sbs_grupo'].apply(lambda x: grupo_datraso_sbs(x))\n",
        "\n",
        "  ##\n",
        "  def grupo_impagos(x):\n",
        "    if x == 0:\n",
        "      return '1. no tiene'\n",
        "    else: return '2. tiene'\n",
        "  temp_df['documentos_impagos_grupo'] = temp_df['Documentos Impagos'].apply(lambda x: grupo_impagos(x))\n",
        "\n",
        "\n",
        "\n",
        "  #\n",
        "  ##\n",
        "  def grupo_dias_recurrente(x):\n",
        "    if pd.isna(x):\n",
        "      return '3. nuevo'\n",
        "    elif int(x) == 0:\n",
        "      return '1. 0'\n",
        "    elif int(x) <= 60:\n",
        "      return '2. 1 hasta 60'\n",
        "    elif int(x) >60:\n",
        "      return '4. 61 a más'\n",
        "    else: return 'ERROR'\n",
        "  temp_df['datraso_p2p_grupo'] = temp_df['Dias de atraso de PAGO'].apply(lambda x: grupo_dias_recurrente(x))\n",
        "\n",
        "\n",
        "\n",
        "  #\n",
        "  ##\n",
        "  def grupo_ocupacion(x):\n",
        "    if x['sector_detalle'] == 'otros servicios: arrendamiento':\n",
        "      return '3. arrendamiento'\n",
        "    elif x['sector'] == 'dependiente':\n",
        "      return '2. dependiente'\n",
        "    else: return '1. independiente'\n",
        "  temp_df['ocupacion_grupo'] = temp_df[['sector','sector_detalle']].apply(grupo_ocupacion, axis=1)\n",
        "\n",
        "  ##\n",
        "  def grupo_al_menos_uno_vive(x):\n",
        "    if x['al_menos_uno_de_los_solicitantes_vive_en_la_garantia_'] == 'VERDADERO':\n",
        "      return '2. SÍ'\n",
        "    else: return '1. NO'\n",
        "  temp_df['al_menos_uno_vive_en_la_garantia_grupo'] = temp_df.apply(grupo_al_menos_uno_vive, axis=1)\n",
        "\n",
        "  ##\n",
        "  def grupo_motivo_principal(x):\n",
        "    if (x=='Expansión del Negocio') or (x=='Lanzar nuevo negocio') or (x=='Capital de trabajo'):\n",
        "      return '2. Capital de trabajo'\n",
        "    elif (x=='Compra de vehículo') or (x=='Otros motivos personales') or (x=='Inversión para terceros')  or (x=='No hay información'):\n",
        "      return '4. Otros motivos personales'\n",
        "    elif (x=='Construir o remodelar') or (x=='Construir o remodelar local comercial para uso propio') or (x=='Construir o remodelar local comercial para alquiler'):\n",
        "      return '1. Construir o remodelar'\n",
        "    elif x=='Compra de deuda':\n",
        "      return '3. Compra de deuda'\n",
        "    else: return '4. Otros motivos personales'\n",
        "  temp_df['motivo_principal_grupo'] = temp_df['motivo_principal_del_prestamo'].apply(lambda x: grupo_motivo_principal(x))\n",
        "\n",
        "\n",
        "\n",
        "  #\n",
        "  def grupo_distritos(distrito):\n",
        "    lista_distritos1 = [\n",
        "        'ancon', 'barranca', 'bellavista', 'cerro colorado', 'cieneguilla', 'lince',\n",
        "        'lurin', 'paucarpata', 'punta hermosa', 'santa anita', 'yanahuara']\n",
        "    lista_distritos2 = [\n",
        "        'ate', 'breña', 'callao', 'carabayllo', 'chorrillos', 'comas', 'la victoria',\n",
        "        'los olivos', 'magdalena del mar', 'miraflores', 'puente piedra', 'san bartolo',\n",
        "        'san juan de lurigancho', 'san juan de miraflores', 'san martin de porres',\n",
        "        'san miguel', 'santiago de surco', 'villa el salvador', 'villa maria del triunfo']\n",
        "    lista_distritos3 = [\n",
        "        'arequipa', 'asia', 'barranco', 'castilla', 'catacaos', 'cayma', 'cercado de lima', 'cerro azul',\n",
        "        'chaclacayo', 'chilca', 'chincha', 'chincha alta', 'el agustino', 'el porvenir', 'el tambo',\n",
        "        'florencia de mora', 'huancayo', 'ica', 'independencia', 'jesus maria','jose luis bustamante y rivero',\n",
        "        'junin', 'la esperanza', 'la molina', 'la perla', 'lurigancho-chosica', 'mariano melgar',\n",
        "        'pachacamac', 'pucusana', 'pueblo libre', 'rimac', 'san borja', 'san isidro', 'san luis',\n",
        "        'santa rosa', 'surquillo', 'trujillo', 'ventanilla', 'victor larco herrera']\n",
        "\n",
        "    if distrito in lista_distritos1:\n",
        "      return '1. grupo 1'\n",
        "    elif distrito in lista_distritos2:\n",
        "        return '2. grupo 2'\n",
        "    elif distrito in lista_distritos3:\n",
        "        return '3. grupo 3'\n",
        "    else: return '3. grupo 3'\n",
        "  temp_df['distritos_grupo'] = temp_df['Distrito de Garantia'].apply(lambda x: grupo_distritos(x))\n",
        "\n",
        "\n",
        "\n",
        "  # Salida\n",
        "  return(temp_df[[\n",
        "             'calificacion_grupo',\n",
        "             'max_datraso_sbs_grupo', 'documentos_impagos_grupo',\n",
        "             'datraso_p2p_grupo', 'ocupacion_grupo',\n",
        "             'al_menos_uno_vive_en_la_garantia_grupo', 'motivo_principal_grupo',\n",
        "             'distritos_grupo']])"
      ],
      "metadata": {
        "id": "dVavOOreAy2q"
      },
      "execution_count": null,
      "outputs": []
    },
    {
      "cell_type": "code",
      "source": [
        "def procesamiento_modelo(df):\n",
        "  temp_df = procesamiento_categorias(df.copy())\n",
        "  #temp_df = df.copy()\n",
        "\n",
        "  # Recodificación\n",
        "  mapeo_ordinal = {\n",
        "    '1. no tiene': 1,\n",
        "    '2. tiene': 2,\n",
        "\n",
        "    '1. 0 a 15': 1,\n",
        "    '2. mas de 15': 2,\n",
        "\n",
        "    '1. NO': 1,\n",
        "    '2. SÍ': 2,\n",
        "\n",
        "    '1. independiente': 1,\n",
        "    '2. dependiente': 2,\n",
        "    '3. arrendamiento': 3,\n",
        "\n",
        "    '1. grupo 1': 1,\n",
        "    '2. grupo 2': 2,\n",
        "    '3. grupo 3': 3,\n",
        "\n",
        "    '1. Normal': 1,\n",
        "    '2. Sin Calificación/CPP': 2,\n",
        "    '3. Deficiente/Dudoso/Perdida': 3,\n",
        "\n",
        "    '1. 0': 1,\n",
        "    '2. 1 hasta 60': 2,\n",
        "    '3. nuevo': 3,\n",
        "    '4. 61 a más': 4,\n",
        "\n",
        "    '1. Construir o remodelar': 1,\n",
        "    '2. Capital de trabajo': 2,\n",
        "    '3. Compra de deuda': 3,\n",
        "    '4. Otros motivos personales': 4,\n",
        "\n",
        "    'a. no tiene': 1,\n",
        "    'b. tiene': 2,\n",
        "\n",
        "    'a. 0 a 15': 1,\n",
        "    'b. mas de 15': 2,\n",
        "\n",
        "    'a. NO': 1,\n",
        "    'b. SÍ': 2,\n",
        "\n",
        "    'a. independiente': 1,\n",
        "    'b. dependiente': 2,\n",
        "    'c. arrendamiento': 3,\n",
        "\n",
        "    'a. grupo 1': 1,\n",
        "    'b. grupo 2': 2,\n",
        "    'c. grupo 3': 3,\n",
        "\n",
        "    'a. Normal': 1,\n",
        "    'b. Sin Calificación/CPP': 2,\n",
        "    'c. Deficiente/Dudoso/Perdida': 3,\n",
        "\n",
        "    'a. 0': 1,\n",
        "    'b. 1 hasta 60': 2,\n",
        "    'c. nuevo': 3,\n",
        "    'd. 61 a más': 4,\n",
        "\n",
        "    'a. Construir o remodelar': 1,\n",
        "    'b. Capital de trabajo': 2,\n",
        "    'c. Compra de deuda': 3,\n",
        "    'd. Otros motivos personales': 4}\n",
        "\n",
        "  for column in ['calificacion_grupo', 'max_datraso_sbs_grupo', 'documentos_impagos_grupo', 'datraso_p2p_grupo', 'ocupacion_grupo', 'al_menos_uno_vive_en_la_garantia_grupo', 'motivo_principal_grupo', 'distritos_grupo']:\n",
        "    temp_df.loc[:, column] = temp_df[column].replace(mapeo_ordinal)\n",
        "    temp_df[column] = temp_df[column].astype(int)\n",
        "\n",
        "\n",
        "\n",
        "  # Salida\n",
        "  return(temp_df)\n"
      ],
      "metadata": {
        "id": "l9Fv46nEK3IZ"
      },
      "execution_count": null,
      "outputs": []
    },
    {
      "cell_type": "markdown",
      "source": [
        "# función: Score modelo"
      ],
      "metadata": {
        "id": "oStX_6ryNfA3"
      }
    },
    {
      "cell_type": "code",
      "source": [
        "def score_modelo(df):\n",
        "  columnas_orden_modelo = ['const', 'documentos_impagos_grupo', 'max_datraso_sbs_grupo', 'al_menos_uno_vive_en_la_garantia_grupo',\n",
        "                           'ocupacion_grupo', 'distritos_grupo', 'calificacion_grupo', 'datraso_p2p_grupo', 'motivo_principal_grupo']\n",
        "\n",
        "  temp_df = df.copy()\n",
        "  temp_df['const'] = 1\n",
        "  temp_df = temp_df[columnas_orden_modelo]\n",
        "  # Cálculo de 'prob' y 'score'\n",
        "  df_score = pd.DataFrame({'fecha_proceso':pd.to_datetime('today').date(), 'score':modelo_pgh.predict(temp_df)})\n",
        "  df_score['score'] = 1000 - 1000*df_score['score']\n",
        "  df_score['score'] = df_score['score'].apply(lambda x: int(np.floor(x)))\n",
        "\n",
        "  # Tramos de puntajes\n",
        "  tramos = [\n",
        "      (df_score['score'] <= 670),\n",
        "      (df_score['score'].between(671, 755)),\n",
        "      (df_score['score'].between(756, 860)),\n",
        "      (df_score['score'].between(861, 915)),\n",
        "      (df_score['score'].between(916, 945)),\n",
        "      (df_score['score'] > 945)]\n",
        "  niveles = ['E', 'D', 'C', 'B', 'A', 'A+']\n",
        "\n",
        "  # 'Nivel_de_riesgo'\n",
        "  df_score['Nivel_de_riesgo'] = pd.Categorical(np.select(tramos, niveles, default='Sin clasificación'))\n",
        "\n",
        "  return(df_score)\n"
      ],
      "metadata": {
        "id": "sHZPAh7qNlKZ"
      },
      "execution_count": null,
      "outputs": []
    }
  ]
}